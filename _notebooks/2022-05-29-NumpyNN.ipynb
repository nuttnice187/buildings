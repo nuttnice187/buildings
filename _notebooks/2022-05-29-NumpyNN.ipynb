{
  "nbformat": 4,
  "nbformat_minor": 0,
  "metadata": {
    "colab": {
      "name": "NumpyNN.ipynb",
      "provenance": [],
      "collapsed_sections": [],
      "authorship_tag": "ABX9TyNvq/clTIBzTsnddeJ7vTG/"
    },
    "kernelspec": {
      "name": "python3",
      "display_name": "Python 3"
    },
    "language_info": {
      "name": "python"
    }
  },
  "cells": [
    {
      "cell_type": "markdown",
      "source": [
        "# Neural Network from Scratch\n",
        "######*A tutorial  for predicting values of previously labeled, hand written numbers using numpy and observations from MNIST data*"
      ],
      "metadata": {
        "id": "FYy-zqwIWqP4"
      }
    },
    {
      "cell_type": "markdown",
      "source": [
        "## Given\n",
        "\n",
        "MNIST is an opensource dataset that contains 70,000 28 X 28 pixel sized images of hand written numbers and an accurate label for their 10 possible categorical labels of digits 0 thru 9.  Each of the 784 image-pixels can be represented as a decimal between 0 and 1, where 0 would represent a blank portion of the written image and 1 would be fully saturated in writing.  Therefore, each of the labeled images can be reresented as a set of 784 elements ranging between 0 and 1.  \n",
        "\n",
        "Let's import some libraries.\n",
        "  1. *numpy* has functions suited for working with arrays\n",
        "  2. *fetch_openml* will return the MNIST dataset\n",
        "  3. *to_categorical* converts a class vector (integers) to binary class matrix.\n",
        "  3. *train_test_split* simplifies the separation of historic data into datasets for training VS testing operations\n",
        "  \n",
        "      a. *It's important we do not use the same instances to test our model that we had previously used as ingredients to train it*\n",
        "  7. *pandas* is for working with dataframes\n",
        "  5. *matplotlib* is for drawing data visualizations"
      ],
      "metadata": {
        "id": "EaaKT4DiXcRW"
      }
    },
    {
      "cell_type": "code",
      "execution_count": 1,
      "metadata": {
        "id": "RPe3sUpCVq7d"
      },
      "outputs": [],
      "source": [
        "import numpy as np\n",
        "from sklearn.datasets import fetch_openml\n",
        "from keras.utils.np_utils import to_categorical\n",
        "from sklearn.model_selection import train_test_split\n",
        "import pandas as pd\n",
        "import matplotlib.pyplot as plt"
      ]
    },
    {
      "cell_type": "markdown",
      "source": [
        "Notice we are not using a data science library for purposes of fitting our model or making predictions, we look to do so from scratch.\n",
        "\n",
        "## Scope\n",
        "Let's set some clear goals.  \n",
        "  1. Provide formal specification of multi layer neural network functionality\n",
        "  2. Define the data processing that takes places before fitting the model\n",
        "  3. Define the class object for our MNISTNNModel\n",
        "  4. Procede to extract, transform & split data, before we instantiate, train & optimize the model\n",
        "  5. Test & evaluate our results\n",
        "  6. Operationalize the predictive model for new predictions"
      ],
      "metadata": {
        "id": "b2zsGynYXatm"
      }
    },
    {
      "cell_type": "markdown",
      "source": [
        "## Basic Functionality\n",
        "\n",
        "A neural network is a predictive model, which functions by taking in $\\vec{a}$ inputs (for us, 28 X 28 pixel-bit-depth values) and outputs a prediction for the written digit.  Below, the vector of $\\vec{y}$ values $y_0$ thru  $y_9$ represents the final output layer. There are ten neurons in this final layer for each of the label categories.  That which has the highest value will be recognized as the most likely prediction."
      ],
      "metadata": {
        "id": "zaP3djdKftIh"
      }
    },
    {
      "cell_type": "markdown",
      "source": [
        "$$\n",
        "\\begin{align}\n",
        "    f_{NeuralNetwork}(\\begin{bmatrix}\n",
        "      a_{0} \\\\\n",
        "      \\vdots \\\\\n",
        "      a_{783}\n",
        "    \\end{bmatrix}) &=\n",
        "    \\begin{bmatrix}\n",
        "      y_{0} \\\\\n",
        "      \\vdots \\\\\n",
        "      y_{9}\n",
        "    \\end{bmatrix}\n",
        "\\end{align}\\\n",
        "$$"
      ],
      "metadata": {
        "id": "4xOgn1lkoE2w"
      }
    },
    {
      "cell_type": "markdown",
      "source": [
        "How do we predict our most likely number label given 784 inputs?  We need to have some layers of neurons between the inputs and prediction layer.  Let's start with two.  Our first hidden layer will have a width of 128 neuron nodes and the subsequent layer we'll have 64 neurons. Below illustrates how these neurons will interact.\n",
        "### Activation Functions"
      ],
      "metadata": {
        "id": "xZoudvHLh9av"
      }
    },
    {
      "cell_type": "markdown",
      "source": [
        "\\begin{align}\n",
        "σ_{sigmoid}(x)=1/(1+e^{-x}) \\\\\n",
        "σ_{ReLU}(x)= max(0,x)  \\\\\n",
        "{σ\\prime}_{ReLU}(x)=\n",
        "\\begin{cases} \n",
        "0 & \\text{if  }  x < 0 \\\\\n",
        "1 & \\text{if  }  x > 0 \\\\\n",
        "\\end{cases} \\\\\n",
        "σ_{softmax}(x)=\\log(\\sum{\\exp^{x_i}})\n",
        "\\end{align}"
      ],
      "metadata": {
        "id": "wPCtXgJ--ze_"
      }
    },
    {
      "cell_type": "markdown",
      "source": [
        "### Matrix Aggregate Computation"
      ],
      "metadata": {
        "id": "ntBk53bWZBm_"
      }
    },
    {
      "cell_type": "markdown",
      "source": [
        "#### Hidden Layer 1"
      ],
      "metadata": {
        "id": "kZP2_eRdYfuH"
      }
    },
    {
      "cell_type": "markdown",
      "source": [
        "\\begin{align}\n",
        "    a^{(1)}_{n:127} &=\n",
        "        {σ}_{ReLU}\\begin{pmatrix}\n",
        "          \\begin{bmatrix} \n",
        "            w_{0,0} & w_{0,1} & \\dots & w_{0,783} \\\\\n",
        "            w_{1,0} & w_{1,1} & \\dots & w_{1,783} \\\\\n",
        "            \\vdots & \\vdots & \\ddots & \\vdots \\\\\n",
        "            w_{127,0} & w_{127,1} & \\dots & w_{127,783} \\\\\n",
        "          \\end{bmatrix}\n",
        "          \\begin{bmatrix}\n",
        "            a^{(0)}_{0} \\\\\n",
        "            \\vdots \\\\\n",
        "            a^{(0)}_{783}\n",
        "          \\end{bmatrix} + \\begin{bmatrix}\n",
        "            b_{0} \\\\\n",
        "            \\vdots \\\\\n",
        "            b_{783}\n",
        "          \\end{bmatrix}\n",
        "    \\end{pmatrix} \\\\\n",
        "    a^{1} &= {σ}_{ReLU}(Wa^{(0)}+b)\n",
        "\\end{align}"
      ],
      "metadata": {
        "id": "Ye1tYYuEyCvA"
      }
    },
    {
      "cell_type": "markdown",
      "source": [
        "#### Hidden Layer 2"
      ],
      "metadata": {
        "id": "NB7QNN7HZO-E"
      }
    },
    {
      "cell_type": "markdown",
      "source": [
        "  \\begin{align}\n",
        "    a^{(2)}_{n:63} &=\n",
        "        {σ}_{ReLU}\\begin{pmatrix}\n",
        "          \\begin{bmatrix} \n",
        "            w_{0,0} & w_{0,1} & \\dots & w_{0,127} \\\\\n",
        "            w_{1,0} & w_{1,1} & \\dots & w_{1,127} \\\\\n",
        "            \\vdots & \\vdots & \\ddots & \\vdots \\\\\n",
        "            w_{63,0} & w_{63,1} & \\dots & w_{63,127} \\\\\n",
        "          \\end{bmatrix}\n",
        "          \\begin{bmatrix}\n",
        "            a^{(1)}_{0} \\\\\n",
        "            \\vdots \\\\\n",
        "            a^{(1)}_{127}\n",
        "          \\end{bmatrix} + \\begin{bmatrix}\n",
        "            b_{0} \\\\\n",
        "            \\vdots \\\\\n",
        "            b_{127}\n",
        "          \\end{bmatrix}\n",
        "    \\end{pmatrix} \\\\\n",
        "    a^{2} &= {σ}_{ReLU}(Wa^{(1)}+b)\n",
        "\\end{align}"
      ],
      "metadata": {
        "id": "MUzE42BAXVi0"
      }
    },
    {
      "cell_type": "markdown",
      "source": [
        "#### Output Layer"
      ],
      "metadata": {
        "id": "RorW8Q08ZTCU"
      }
    },
    {
      "cell_type": "markdown",
      "source": [
        "  \\begin{align}\n",
        "    a^{(f)}_{n:9} &=\n",
        "        {σ}_{softmax}\\begin{pmatrix}\n",
        "          \\begin{bmatrix} \n",
        "            w_{0,0} & w_{0,1} & \\dots & w_{0,63} \\\\\n",
        "            w_{1,0} & w_{1,1} & \\dots & w_{1,63} \\\\\n",
        "            \\vdots & \\vdots & \\ddots & \\vdots \\\\\n",
        "            w_{9,0} & w_{9,1} & \\dots & w_{9,63} \\\\\n",
        "          \\end{bmatrix}\n",
        "          \\begin{bmatrix}\n",
        "            a^{(2)}_{0} \\\\\n",
        "            \\vdots \\\\\n",
        "            a^{(2)}_{63}\n",
        "          \\end{bmatrix} + \\begin{bmatrix}\n",
        "            b_{0} \\\\\n",
        "            \\vdots \\\\\n",
        "            b_{63}\n",
        "          \\end{bmatrix}\n",
        "    \\end{pmatrix} \\\\\n",
        "    a^{f} &= {σ}_{softmax}(Wa^{(2)}+b)\n",
        "\\end{align}"
      ],
      "metadata": {
        "id": "aZW8dTmJXX_h"
      }
    },
    {
      "cell_type": "markdown",
      "source": [
        "## Preprocessing Definitions\n",
        "This predictive model works best when predicting the label of one hot encoded values.  The maximum bit depth for any pixel is 255.  This model works best when predictors are normalized between 0 and 1.  We'll define a data manipulation process to transform our inputs, as so."
      ],
      "metadata": {
        "id": "U-ENV0W2FrNE"
      }
    },
    {
      "cell_type": "code",
      "source": [
        "def extractTransformSplitMNIST(f=0.33, i=42):\n",
        "  # Extract MNIST data from sklearn module\n",
        "  X, y = fetch_openml('mnist_784', version=1, return_X_y=True)\n",
        "\n",
        "  # Define transformations\n",
        "  X = (X/255).astype('float32').to_numpy()\n",
        "  y = to_categorical(y)\n",
        "\n",
        "  # Split data into random groups of observations for training and testing\n",
        "  return train_test_split(X, y, test_size=f, random_state=i)"
      ],
      "metadata": {
        "id": "Atls9GvihPFW"
      },
      "execution_count": 2,
      "outputs": []
    },
    {
      "cell_type": "markdown",
      "source": [
        "## Model Definition"
      ],
      "metadata": {
        "id": "8tv_SSui3brA"
      }
    },
    {
      "cell_type": "code",
      "source": [
        "class MNISTNNModeler:\n",
        "    def __init__(self, X, y, batch = 64, lr = 1e-3,  epochs = 50):\n",
        "        self.input = X \n",
        "        self.target = y\n",
        "        self.batch = batch\n",
        "        self.epochs = epochs\n",
        "        self.lr = lr\n",
        "        \n",
        "        self.x = self.input[:self.batch] # batch input \n",
        "        self.y = self.target[:self.batch] # batch target value\n",
        "        self.loss = []\n",
        "        self.acc = []\n",
        "        \n",
        "        self.init_weights()\n",
        "      \n",
        "    def init_weights(self):\n",
        "        self.W1 = np.random.randn(self.input.shape[1],256)\n",
        "        self.W2 = np.random.randn(self.W1.shape[1],128)\n",
        "        self.W3 = np.random.randn(self.W2.shape[1],self.y.shape[1])\n",
        "\n",
        "        self.b1 = np.random.randn(self.W1.shape[1],)\n",
        "        self.b2 = np.random.randn(self.W2.shape[1],)\n",
        "        self.b3 = np.random.randn(self.W3.shape[1],)\n",
        "\n",
        "    def ReLU(self, x):\n",
        "        return np.maximum(0,x)\n",
        "\n",
        "    def dReLU(self,x):\n",
        "        return 1 * (x > 0) \n",
        "    \n",
        "    def softmax(self, z):\n",
        "        z = z - np.max(z, axis = 1).reshape(z.shape[0],1)\n",
        "        return np.exp(z) / np.sum(np.exp(z), axis = 1).reshape(z.shape[0],1)\n",
        "    \n",
        "    def shuffle(self):\n",
        "        idx = [i for i in range(self.input.shape[0])]\n",
        "        np.random.shuffle(idx)\n",
        "        self.input = self.input[idx]\n",
        "        self.target = self.target[idx]\n",
        "        \n",
        "    def feedforward(self):\n",
        "        assert self.x.shape[1] == self.W1.shape[0]\n",
        "        self.z1 = self.x.dot(self.W1) + self.b1\n",
        "        self.a1 = self.ReLU(self.z1)\n",
        "\n",
        "        assert self.a1.shape[1] == self.W2.shape[0]\n",
        "        self.z2 = self.a1.dot(self.W2) + self.b2\n",
        "        self.a2 = self.ReLU(self.z2)\n",
        "\n",
        "        assert self.a2.shape[1] == self.W3.shape[0]\n",
        "        self.z3 = self.a2.dot(self.W3) + self.b3\n",
        "        self.a3 = self.softmax(self.z3)\n",
        "        self.error = self.a3 - self.y\n",
        "\n",
        "        \n",
        "    def backprop(self):\n",
        "        dcost = (1/self.batch)*self.error\n",
        "        \n",
        "        DW3 = np.dot(dcost.T,self.a2).T\n",
        "        DW2 = np.dot((np.dot((dcost),self.W3.T) * self.dReLU(self.z2)).T,self.a1).T\n",
        "        DW1 = np.dot((np.dot(np.dot((dcost),self.W3.T)*self.dReLU(self.z2),self.W2.T)*self.dReLU(self.z1)).T,self.x).T\n",
        "\n",
        "        db3 = np.sum(dcost,axis = 0)\n",
        "        db2 = np.sum(np.dot((dcost),self.W3.T) * self.dReLU(self.z2),axis = 0)\n",
        "        db1 = np.sum((np.dot(np.dot((dcost),self.W3.T)*self.dReLU(self.z2),self.W2.T)*self.dReLU(self.z1)),axis = 0)\n",
        "        \n",
        "        assert DW3.shape == self.W3.shape\n",
        "        assert DW2.shape == self.W2.shape\n",
        "        assert DW1.shape == self.W1.shape\n",
        "        \n",
        "        assert db3.shape == self.b3.shape\n",
        "        assert db2.shape == self.b2.shape\n",
        "        assert db1.shape == self.b1.shape \n",
        "        \n",
        "        self.W3 = self.W3 - self.lr * DW3\n",
        "        self.W2 = self.W2 - self.lr * DW2\n",
        "        self.W1 = self.W1 - self.lr * DW1\n",
        "        \n",
        "        self.b3 = self.b3 - self.lr * db3\n",
        "        self.b2 = self.b2 - self.lr * db2\n",
        "        self.b1 = self.b1 - self.lr * db1\n",
        "\n",
        "    def fit(self):\n",
        "        for epoch in range(self.epochs):\n",
        "            l = 0\n",
        "            acc = 0\n",
        "            self.shuffle()\n",
        "            \n",
        "            for batch in range(self.input.shape[0]//self.batch-1):\n",
        "                start = batch*self.batch\n",
        "                end = (batch+1)*self.batch\n",
        "                self.x = self.input[start:end]\n",
        "                self.y = self.target[start:end]\n",
        "                self.feedforward()\n",
        "                self.backprop()\n",
        "                l+=np.mean(self.error**2)\n",
        "                acc+= np.count_nonzero(np.argmax(self.a3,axis=1) == np.argmax(self.y,axis=1)) / self.batch\n",
        "                \n",
        "            self.loss.append(l/(self.input.shape[0]//self.batch))\n",
        "            self.acc.append(acc*100/(self.input.shape[0]//self.batch))\n",
        "            \n",
        "    def plot(self):\n",
        "        plt.figure(dpi = 125)\n",
        "        plt.plot(self.loss)\n",
        "        plt.xlabel(\"Epochs\")\n",
        "        plt.ylabel(\"Loss\")\n",
        "    \n",
        "    def acc_plot(self):\n",
        "        plt.figure(dpi = 125)\n",
        "        plt.plot(self.acc)\n",
        "        plt.xlabel(\"Epochs\")\n",
        "        plt.ylabel(\"Accuracy\")\n",
        "        \n",
        "    def predict(self,xtest,ytest):\n",
        "        self.x = xtest\n",
        "        self.y = ytest\n",
        "        self.feedforward()\n",
        "        acc = np.count_nonzero(np.argmax(self.a3,axis=1) == np.argmax(self.y,axis=1)) / self.x.shape[0]\n",
        "        print(\"Accuracy:\", 100 * acc, \"%\")\n",
        "      "
      ],
      "metadata": {
        "id": "Kv5IIZN7hj8u"
      },
      "execution_count": 3,
      "outputs": []
    },
    {
      "cell_type": "markdown",
      "source": [
        "## Execution Procedure"
      ],
      "metadata": {
        "id": "fMlKtS-L4LHm"
      }
    },
    {
      "cell_type": "code",
      "source": [
        "# Extract data to memory and apply transformations\n",
        "X_train, X_test, y_train, y_test = extractTransformSplitMNIST(0.15)\n",
        "\n",
        "# Declare an object as an instance of our model\n",
        "NN = MNISTNNModeler(X_train, y_train)\n",
        "\n",
        "# Execute training function\n",
        "NN.fit()"
      ],
      "metadata": {
        "id": "R_6LuUApXkHL"
      },
      "execution_count": 4,
      "outputs": []
    },
    {
      "cell_type": "markdown",
      "source": [
        "## Model Evaluation"
      ],
      "metadata": {
        "id": "IQRYFrCO4mO1"
      }
    },
    {
      "cell_type": "code",
      "source": [
        "NN.plot()\n",
        "NN.acc_plot()"
      ],
      "metadata": {
        "id": "nmcPIVvH8w-h",
        "colab": {
          "base_uri": "https://localhost:8080/",
          "height": 931
        },
        "outputId": "0a5d9f53-a3cb-4b8b-ddd5-614e6c00718c"
      },
      "execution_count": 5,
      "outputs": [
        {
          "output_type": "display_data",
          "data": {
            "text/plain": [
              "<Figure size 750x500 with 1 Axes>"
            ],
            "image/png": "[encoded data removed]"
          },
          "metadata": {
            "needs_background": "light"
          }
        },
        {
          "output_type": "display_data",
          "data": {
            "text/plain": [
              "<Figure size 750x500 with 1 Axes>"
            ],
            "image/png": "[encoded data removed]"
          },
          "metadata": {
            "needs_background": "light"
          }
        }
      ]
    },
    {
      "cell_type": "code",
      "source": [
        "NN.predict(X_test,y_test)"
      ],
      "metadata": {
        "colab": {
          "base_uri": "https://localhost:8080/"
        },
        "id": "y0-v3usZRXhA",
        "outputId": "37454249-4511-45a9-bec0-a4fa06885219"
      },
      "execution_count": 6,
      "outputs": [
        {
          "output_type": "stream",
          "name": "stdout",
          "text": [
            "Accuracy: 91.39047619047619 %\n"
          ]
        }
      ]
    },
    {
      "cell_type": "markdown",
      "source": [
        "\n",
        "## Operationalizing Predictions"
      ],
      "metadata": {
        "id": "vLkd_6Sb9GOC"
      }
    },
    {
      "cell_type": "markdown",
      "source": [
        "## Conclusion"
      ],
      "metadata": {
        "id": "1wlKGsGPXwNe"
      }
    }
  ]
}